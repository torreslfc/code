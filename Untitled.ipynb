{
 "cells": [
  {
   "cell_type": "markdown",
   "metadata": {},
   "source": [
    "###   A1. What are the top 5 parts of speech in this corpus of job descriptions? How frequently do they appear?"
   ]
  },
  {
   "cell_type": "code",
   "execution_count": 1,
   "metadata": {
    "collapsed": false
   },
   "outputs": [
    {
     "data": {
      "text/plain": [
       "1\n",
       "NN     35686\n",
       "NNP    30762\n",
       "IN     22677\n",
       "JJ     18051\n",
       "DT     16998\n",
       "Name: 0, dtype: int64"
      ]
     },
     "execution_count": 1,
     "metadata": {},
     "output_type": "execute_result"
    }
   ],
   "source": [
    "import pandas as pd\n",
    "from pandas import DataFrame\n",
    "\n",
    "import nltk\n",
    "from nltk.tokenize import word_tokenize\n",
    "\n",
    "# Importing the Data\n",
    "data = pd.read_csv('Train_rev1.csv')\n",
    "\n",
    "# Getting the required Job Description Data\n",
    "req_data = data[\"FullDescription\"][:1000].str.cat(sep =' ')\n",
    "req_data = req_data.decode('utf-8')\n",
    "\n",
    "# Tokenizing the 1000 descriptions\n",
    "text=word_tokenize(req_data)\n",
    "\n",
    "# Tagging the description words with Parts of Speech\n",
    "pos_tagged = nltk.pos_tag(text)\n",
    "\n",
    "# Extracting Top 5 Most common Parts of Speech\n",
    "df = pd.DataFrame(pos_tagged)\n",
    "pos = pd.DataFrame(df.groupby([1])[0].count())\n",
    "pos[0].sort_values(ascending = False)[:5]\n"
   ]
  },
  {
   "cell_type": "markdown",
   "metadata": {},
   "source": [
    "### A3. If we remove stopwords and lemmatize the corpus, what are the 10 most common words? What is their frequency?"
   ]
  },
  {
   "cell_type": "code",
   "execution_count": 2,
   "metadata": {
    "collapsed": false
   },
   "outputs": [
    {
     "data": {
      "text/plain": [
       "care          3066\n",
       "home          2132\n",
       "experience    1371\n",
       "manager       1282\n",
       "nurse         1276\n",
       "work          1210\n",
       "nursing       1182\n",
       "support       1096\n",
       "within        1040\n",
       "job            989\n",
       "Name: 0, dtype: int64"
      ]
     },
     "execution_count": 2,
     "metadata": {},
     "output_type": "execute_result"
    }
   ],
   "source": [
    "from nltk.corpus import stopwords \n",
    "import re\n",
    "\n",
    "# Remove non-letters        \n",
    "letters_only = re.sub(\"[^a-zA-Z]\", \" \", req_data)\n",
    "\n",
    "# Convert to lower case, split into individual words\n",
    "words = letters_only.lower().split()\n",
    "\n",
    "# Creating a set of Stop Words\n",
    "stops = set(stopwords.words(\"english\"))                  \n",
    "    \n",
    "# Remove stop words\n",
    "meaningful_words = [w for w in words if not w in stops]   \n",
    "\n",
    "#Join the words back into one string separated by space, and return the result.\n",
    "clean_data = \" \".join( meaningful_words )\n",
    "    \n",
    "# Tokenizing the clean data\n",
    "text = word_tokenize(clean_data)\n",
    "    \n",
    "# Lemmatizing the Data\n",
    "\n",
    "from nltk.stem import WordNetLemmatizer\n",
    "WL= WordNetLemmatizer()\n",
    "clean_desc = []\n",
    "\n",
    "for words in text:\n",
    "    new_word = WL.lemmatize(words)\n",
    "\n",
    "    clean_desc.append(new_word)\n",
    "    \n",
    "# Getting the most common words after cleaning the data and lemmatizing\n",
    "\n",
    "dfnew_words = pd.DataFrame(clean_desc)\n",
    "\n",
    "dfnew_words[0].value_counts()[:10]"
   ]
  },
  {
   "cell_type": "markdown",
   "metadata": {},
   "source": [
    "###  A2. Does this corpus support Zipf’s law? Plot the most common 100 words in the corpus against the theoretical prediction of the law. For this question, do not remove stopwords. Also do not perform stemming or lemmatization. "
   ]
  }
 ],
 "metadata": {
  "anaconda-cloud": {},
  "kernelspec": {
   "display_name": "Python [Root]",
   "language": "python",
   "name": "Python [Root]"
  },
  "language_info": {
   "codemirror_mode": {
    "name": "ipython",
    "version": 2
   },
   "file_extension": ".py",
   "mimetype": "text/x-python",
   "name": "python",
   "nbconvert_exporter": "python",
   "pygments_lexer": "ipython2",
   "version": "2.7.12"
  }
 },
 "nbformat": 4,
 "nbformat_minor": 0
}
